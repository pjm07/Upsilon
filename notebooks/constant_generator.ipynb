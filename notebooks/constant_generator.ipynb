{
 "cells": [
  {
   "cell_type": "code",
   "execution_count": 1,
   "id": "57d77d09",
   "metadata": {},
   "outputs": [],
   "source": [
    "import numpy as np"
   ]
  },
  {
   "cell_type": "code",
   "execution_count": 2,
   "id": "a725912d",
   "metadata": {},
   "outputs": [],
   "source": [
    "class PowerLawDistribution:\n",
    "    def __init__(self, alpha, xmin=1):\n",
    "        \"\"\"\n",
    "        Initialize the power-law distribution.\n",
    "\n",
    "        :param alpha: Power-law exponent (must be greater than 1 for valid probabilities).\n",
    "        :param xmin: Minimum value of the distribution (default is 1).\n",
    "        \"\"\"\n",
    "        if alpha <= 1:\n",
    "            raise ValueError(\"Alpha must be greater than 1 for a valid probability distribution.\")\n",
    "        self.alpha = alpha\n",
    "        self.xmin = xmin\n",
    "\n",
    "    def pmf(self, x):\n",
    "        \"\"\"\n",
    "        Calculate the probability mass function (PMF) for a given value or array of values.\n",
    "\n",
    "        :param x: A scalar or array of integers greater than or equal to xmin.\n",
    "        :return: Corresponding probabilities.\n",
    "        \"\"\"\n",
    "        x = np.array(x, dtype=int)\n",
    "        if np.any(x < self.xmin):\n",
    "            raise ValueError(f\"All x values must be >= {self.xmin}\")\n",
    "        normalization = sum(k**-self.alpha for k in range(self.xmin, 10000))  # Approximate normalization\n",
    "        return np.array([k**-self.alpha / normalization for k in x])\n",
    "\n",
    "    def sample(self, n):\n",
    "        \"\"\"\n",
    "        Generate samples from the power-law distribution.\n",
    "\n",
    "        :param n: Number of samples to generate.\n",
    "        :return: Array of sampled integers.\n",
    "        \"\"\"\n",
    "        values = np.arange(self.xmin, self.xmin + 10000)\n",
    "        probabilities = np.array([k**-self.alpha for k in values])\n",
    "        probabilities /= probabilities.sum()  # Normalize\n",
    "        return np.random.choice(values, size=n, p=probabilities)"
   ]
  },
  {
   "cell_type": "code",
   "execution_count": 3,
   "id": "617db2ee",
   "metadata": {},
   "outputs": [
    {
     "name": "stdout",
     "output_type": "stream",
     "text": [
      "200\n",
      "2.531142986546293\n"
     ]
    }
   ],
   "source": [
    "alpha = 1.4316  # Power-law exponent\n",
    "xmin = 1     # Minimum value for the distribution\n",
    "\n",
    "# Create a power-law distribution instance\n",
    "power_law = PowerLawDistribution(alpha, xmin)\n",
    "\n",
    "# Generate 10 samples\n",
    "n_samples = 5\n",
    "prod_overall = 1\n",
    "n_loops = 200\n",
    "i = 0\n",
    "while i < n_loops:\n",
    "    samples = power_law.sample(n_samples)\n",
    "    prod_overall *= np.prod(samples, dtype = np.int64)**(1 / n_samples)\n",
    "    i += 1\n",
    "\n",
    "print(i)\n",
    "print(prod_overall**(1 / i) / 2)\n",
    "\n",
    "# # Calculate probabilities for specific values\n",
    "# values = [1, 2, 3, 4, 5]\n",
    "# probabilities = power_law.pmf(values)\n",
    "# print(\"Probabilities:\", dict(zip(values, probabilities)))"
   ]
  },
  {
   "cell_type": "code",
   "execution_count": 4,
   "id": "7b60c197",
   "metadata": {},
   "outputs": [],
   "source": [
    "from fractions import Fraction\n",
    "\n",
    "def decimal_from_continued_fraction(cf):\n",
    "    \"\"\"Calculates the decimal value of a simple continued fraction.\n",
    "\n",
    "    Args:\n",
    "        cf: A list representing the coefficients of the continued fraction.\n",
    "\n",
    "    Returns:\n",
    "        The decimal value of the continued fraction.\n",
    "    \"\"\"\n",
    "\n",
    "    if not cf:\n",
    "        return 0\n",
    "\n",
    "    result = Fraction(cf[-1], 1)\n",
    "    for i in range(len(cf) - 2, -1, -1):\n",
    "        result = 1 / result + cf[i]\n",
    "\n",
    "    return float(result)"
   ]
  },
  {
   "cell_type": "code",
   "execution_count": 88,
   "id": "9e3d815e",
   "metadata": {},
   "outputs": [
    {
     "name": "stdout",
     "output_type": "stream",
     "text": [
      "samples = [   1    1    6   27   15   11    1  757    2    4    3    1    5    8\n",
      "    1  114   18    1    1    5  158    3    3    3    6   24    1    1\n",
      "  707   22    1  398   15    1    3    1    6    5    1    2    2    1\n",
      "    3   33    1    9    4    1  157  129    1    1   11   26    1    1\n",
      "    7    1  256    1    1    2   10    1    1    1    1    2    1    1\n",
      "  158    2   11    1  631    3   17    9   30    8 4159    1   83    1\n",
      "    2    1    2    2    1   16    7    1    1   73    1   19    6    1\n",
      "   11    1]\n",
      "[1]\n",
      "0.5382441568171152\n"
     ]
    }
   ],
   "source": [
    "alpha = 1.4317  # Power-law exponent\n",
    "xmin = 1     # Minimum value for the distribution\n",
    "\n",
    "# Create a power-law distribution instance\n",
    "power_law = PowerLawDistribution(alpha, xmin)\n",
    "\n",
    "# Generate 10 samples\n",
    "n_samples = 100\n",
    "samples = power_law.sample(n_samples)\n",
    "print(\"samples = \" + str(samples))\n",
    "\n",
    "alpha_ones = 2.4  # Power-law exponent\n",
    "xmin = 1     # Minimum value for the distribution\n",
    "\n",
    "# Create a power-law distribution instance\n",
    "power_law_ones = PowerLawDistribution(alpha_ones, xmin)\n",
    "\n",
    "# Generate 10 samples\n",
    "n_samples_ones = 1\n",
    "samples_ones = power_law_ones.sample(n_samples_ones)\n",
    "print(samples_ones)\n",
    "\n",
    "# Example usage\n",
    "# print(type(samples))\n",
    "cf = [samples_ones[0] - 1] + samples.tolist()\n",
    "decimal_value = decimal_from_continued_fraction(cf)\n",
    "print(decimal_value)"
   ]
  },
  {
   "cell_type": "code",
   "execution_count": null,
   "id": "32096f90",
   "metadata": {},
   "outputs": [],
   "source": []
  },
  {
   "cell_type": "code",
   "execution_count": null,
   "id": "7b69cf7c",
   "metadata": {},
   "outputs": [],
   "source": []
  }
 ],
 "metadata": {
  "kernelspec": {
   "display_name": "modern-nn-potentials",
   "language": "python",
   "name": "modern-nn-potentials"
  },
  "language_info": {
   "codemirror_mode": {
    "name": "ipython",
    "version": 3
   },
   "file_extension": ".py",
   "mimetype": "text/x-python",
   "name": "python",
   "nbconvert_exporter": "python",
   "pygments_lexer": "ipython3",
   "version": "3.8.16"
  }
 },
 "nbformat": 4,
 "nbformat_minor": 5
}
