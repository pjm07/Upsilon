{
 "cells": [
  {
   "cell_type": "code",
   "execution_count": 1,
   "id": "d24c4bfa",
   "metadata": {},
   "outputs": [
    {
     "name": "stderr",
     "output_type": "stream",
     "text": [
      "In C:\\Users\\pjmil\\anaconda3\\lib\\site-packages\\matplotlib\\mpl-data\\stylelib\\_classic_test.mplstyle: \n",
      "The text.latex.preview rcparam was deprecated in Matplotlib 3.3 and will be removed two minor releases later.\n",
      "In C:\\Users\\pjmil\\anaconda3\\lib\\site-packages\\matplotlib\\mpl-data\\stylelib\\_classic_test.mplstyle: \n",
      "The mathtext.fallback_to_cm rcparam was deprecated in Matplotlib 3.3 and will be removed two minor releases later.\n",
      "In C:\\Users\\pjmil\\anaconda3\\lib\\site-packages\\matplotlib\\mpl-data\\stylelib\\_classic_test.mplstyle: Support for setting the 'mathtext.fallback_to_cm' rcParam is deprecated since 3.3 and will be removed two minor releases later; use 'mathtext.fallback : 'cm' instead.\n",
      "In C:\\Users\\pjmil\\anaconda3\\lib\\site-packages\\matplotlib\\mpl-data\\stylelib\\_classic_test.mplstyle: \n",
      "The validate_bool_maybe_none function was deprecated in Matplotlib 3.3 and will be removed two minor releases later.\n",
      "In C:\\Users\\pjmil\\anaconda3\\lib\\site-packages\\matplotlib\\mpl-data\\stylelib\\_classic_test.mplstyle: \n",
      "The savefig.jpeg_quality rcparam was deprecated in Matplotlib 3.3 and will be removed two minor releases later.\n",
      "In C:\\Users\\pjmil\\anaconda3\\lib\\site-packages\\matplotlib\\mpl-data\\stylelib\\_classic_test.mplstyle: \n",
      "The keymap.all_axes rcparam was deprecated in Matplotlib 3.3 and will be removed two minor releases later.\n",
      "In C:\\Users\\pjmil\\anaconda3\\lib\\site-packages\\matplotlib\\mpl-data\\stylelib\\_classic_test.mplstyle: \n",
      "The animation.avconv_path rcparam was deprecated in Matplotlib 3.3 and will be removed two minor releases later.\n",
      "In C:\\Users\\pjmil\\anaconda3\\lib\\site-packages\\matplotlib\\mpl-data\\stylelib\\_classic_test.mplstyle: \n",
      "The animation.avconv_args rcparam was deprecated in Matplotlib 3.3 and will be removed two minor releases later.\n"
     ]
    }
   ],
   "source": [
    "import matplotlib.pyplot as plt\n",
    "import numpy as np\n",
    "import os\n",
    "from scipy.optimize import curve_fit\n",
    "import time\n",
    "%matplotlib inline"
   ]
  },
  {
   "cell_type": "code",
   "execution_count": 2,
   "id": "d08af1dd",
   "metadata": {},
   "outputs": [],
   "source": [
    "# fig_cluster, ax_cluster = plt.subplots(1, 1, tight_layout=True, figsize=(8, 3))\n",
    "\n",
    "# Upsilon_pi_array = [15.2180398, 2.52076579, 1.45350005, 1.4211961, 1.42800967, \n",
    "#                 1.45708777, 1.44332462, 1.4558449, 1.4446084, 1.43328679, \n",
    "#                 1.43071976, 1.42978011, 1.43138253, 1.43166573]\n",
    "# Upsilon_pi_error_array = [8.25826619e+03, 1.38437557e-01, 4.68806177e-02, 2.14086867e-02, \n",
    "#                         1.03825041e-02, 9.20518645e-04, 7.03274173e-04, 5.95141817e-04, \n",
    "#                         6.96877022e-04, 3.77630442e-04, 2.53927895e-04, 3.03243655e-05, \n",
    "#                         3.01836353e-05, 2.98990180e-05]\n",
    "\n",
    "# ax_cluster.errorbar(x = range(5, 15),\n",
    "#                    y = Upsilon_pi_array[4:],\n",
    "#                    yerr = Upsilon_pi_error_array[4:],\n",
    "#                     marker = 'o', markersize = 6, \n",
    "#                    ls = '')\n",
    "\n",
    "# Upsilon_gamma_array = [1.349455, 1.68608989, 1.57999369, 1.44736522, 1.4915571, 1.44296192, \n",
    "#                  1.44798927, 1.44135122, 1.44080323, 1.43234744, 1.43132771, 1.43354105, \n",
    "#                  1.4329449]\n",
    "# Upsilon_gamma_error_array = [1.93426777e-01, 9.80024646e-02, 1.25884806e-02, 1.25204310e-02,\n",
    "#                  2.85278029e-03, 2.59919281e-03, 8.73808306e-04, 8.89877931e-04,\n",
    "#                  3.52616668e-04, 1.28382028e-04, 7.40333997e-05, 7.24066842e-05,\n",
    "#                  3.80721833e-05]\n",
    "\n",
    "# ax_cluster.errorbar(x = range(6, 15),\n",
    "#                    y = Upsilon_gamma_array[4:],\n",
    "#                    yerr = Upsilon_gamma_error_array[4:],\n",
    "#                     marker = 'o', markersize = 6, \n",
    "#                    ls = '')"
   ]
  },
  {
   "cell_type": "code",
   "execution_count": 3,
   "id": "6e20bc58",
   "metadata": {},
   "outputs": [],
   "source": [
    "# digits = list(map(int, open(\"iteration1_pi.txt\").read().splitlines()))\n",
    "# digits = digits[1:]\n",
    "# # print(digits[0:100])"
   ]
  },
  {
   "cell_type": "code",
   "execution_count": 4,
   "id": "46b2cb11",
   "metadata": {},
   "outputs": [],
   "source": [
    "# fit_limit = 250000\n",
    "# plot_limit = 1000"
   ]
  },
  {
   "cell_type": "code",
   "execution_count": 5,
   "id": "c999244f",
   "metadata": {},
   "outputs": [],
   "source": [
    "# t_plot_start = time.time()\n",
    "# fig, ax = plt.subplots(1, 1, tight_layout=True, figsize=(8, 3))\n",
    "# # fig = plt.figure(figsize = (8, 3))\n",
    "# N, Bins, _ = plt.hist(digits[0:fit_limit], bins = max(digits[0:fit_limit]))\n",
    "# ax.set_xscale('log')\n",
    "# ax.set_yscale('log')\n",
    "# # plt.yscale('log')\n",
    "# ax.set_xlim([1, plot_limit])\n",
    "# # plt.xlim((0, plot_limit))"
   ]
  },
  {
   "cell_type": "code",
   "execution_count": 6,
   "id": "6789376b",
   "metadata": {},
   "outputs": [],
   "source": [
    "# t_plot_end = time.time()\n",
    "# print(t_plot_end - t_plot_start)"
   ]
  },
  {
   "cell_type": "code",
   "execution_count": 7,
   "id": "d13ac157",
   "metadata": {},
   "outputs": [],
   "source": [
    "# 1/0"
   ]
  },
  {
   "cell_type": "code",
   "execution_count": 8,
   "id": "c409992e",
   "metadata": {},
   "outputs": [],
   "source": [
    "# print(N)\n",
    "# print(np.rint(Bins[:-1]))"
   ]
  },
  {
   "cell_type": "code",
   "execution_count": 9,
   "id": "f3fdf2f7",
   "metadata": {},
   "outputs": [],
   "source": [
    "# print(len(Bins))\n",
    "# print(len(N))"
   ]
  },
  {
   "cell_type": "code",
   "execution_count": 10,
   "id": "0566343f",
   "metadata": {},
   "outputs": [],
   "source": [
    "# len(np.rint(Bins)) != len(set(np.rint(Bins)))"
   ]
  },
  {
   "cell_type": "code",
   "execution_count": 18,
   "id": "cc25dfb3",
   "metadata": {},
   "outputs": [],
   "source": [
    "data_cluster = np.loadtxt(\"contfract_idx_apery.txt\", skiprows = 1, usecols = (1))\n",
    "# print(data_cluster)"
   ]
  },
  {
   "cell_type": "code",
   "execution_count": 19,
   "id": "ffc1cca7",
   "metadata": {},
   "outputs": [],
   "source": [
    "# print(\"data_cluster has shape \" + str(np.shape(data_cluster)))\n",
    "# bins = data_cluster[:np.shape(data_cluster)[0] // 2]\n",
    "# print(\"bins has shape \" + str(np.shape(bins)))\n",
    "# print(\"bins = \" + str(bins))\n",
    "# hist = data_cluster[np.shape(data_cluster)[0] // 2:]\n",
    "# print(\"hist has shape \" + str(np.shape(hist)))\n",
    "# print(\"hist = \" + str(hist))"
   ]
  },
  {
   "cell_type": "code",
   "execution_count": 20,
   "id": "5fb12597",
   "metadata": {},
   "outputs": [
    {
     "name": "stdout",
     "output_type": "stream",
     "text": [
      "(162049,)\n",
      "[8320 3377 1882 ...    0    0    1]\n",
      "(162050,)\n",
      "[1.00000e+00 2.00000e+00 3.00000e+00 ... 1.62048e+05 1.62049e+05\n",
      " 1.62050e+05]\n"
     ]
    }
   ],
   "source": [
    "hist, bins = np.histogram(data_cluster, bins = int(np.max(data_cluster)) - 1)\n",
    "print(np.shape(hist))\n",
    "print(hist)\n",
    "print(np.shape(bins))\n",
    "print(bins)"
   ]
  },
  {
   "cell_type": "code",
   "execution_count": 21,
   "id": "6a74ac62",
   "metadata": {},
   "outputs": [
    {
     "data": {
      "text/plain": [
       "(0.1, 16640)"
      ]
     },
     "execution_count": 21,
     "metadata": {},
     "output_type": "execute_result"
    },
    {
     "data": {
      "image/png": "[encoded data removed]",
      "text/plain": [
       "<Figure size 576x216 with 1 Axes>"
      ]
     },
     "metadata": {
      "needs_background": "light"
     },
     "output_type": "display_data"
    }
   ],
   "source": [
    "fig, ax = plt.subplots(1, 1, tight_layout=True, figsize=(8, 3))\n",
    "# fig = plt.figure(figsize = (8, 3))\n",
    "# N, Bins, _ = plt.hist(digits[0:fit_limit], bins = max(digits[0:fit_limit]))\n",
    "ax.scatter(bins[:-1], hist)\n",
    "ax.semilogx()\n",
    "ax.semilogy()\n",
    "# ax.set_yscale('log')\n",
    "# plt.yscale('log')\n",
    "ax.set_xlim(1, 100)\n",
    "ax.set_ylim(0.1, 2 * max(hist))"
   ]
  },
  {
   "cell_type": "code",
   "execution_count": 22,
   "id": "f7c4511b",
   "metadata": {},
   "outputs": [],
   "source": [
    "def func_linear(x, P, t):\n",
    "    return P * x**(-t)\n",
    "\n",
    "def func_quad(x, C, b, a):\n",
    "    return C * x**(b) * x**(a * np.log(x))\n",
    "\n",
    "def func_exp(x, A, B):\n",
    "    return np.exp(A * x**(B))"
   ]
  },
  {
   "cell_type": "code",
   "execution_count": 23,
   "id": "a69b2ebb",
   "metadata": {},
   "outputs": [
    {
     "name": "stdout",
     "output_type": "stream",
     "text": [
      "[8.40945194e+03 1.43101328e+00]\n"
     ]
    }
   ],
   "source": [
    "popt_linear, pcov_linear = curve_fit(func_linear, bins[:-1], hist)\n",
    "print(popt_linear)\n",
    "# popt_quad, pcov_quad = curve_fit(func_quad, np.rint(Bins[:-1]), N)\n",
    "# print(popt_quad)\n",
    "# popt_exp, pcov_exp = curve_fit(func_exp, np.rint(Bins[:-1]), N)\n",
    "# print(popt_exp)\n",
    "ax.plot(bins, func_linear(bins, *popt_linear))\n",
    "# ax.plot(np.rint(Bins[0:fit_limit]), func_quad(np.rint(Bins[0:fit_limit]), *popt_quad))\n",
    "# ax.plot(np.rint(Bins[0:fit_limit]), func_exp(np.rint(Bins[0:fit_limit]), *popt_exp))\n",
    "ax.set_ylim([10**(0), 10**(5)])\n",
    "fig.figure"
   ]
  },
  {
   "cell_type": "code",
   "execution_count": 17,
   "id": "670d1d72",
   "metadata": {},
   "outputs": [],
   "source": [
    "# sum of power laws\n",
    "# observe how well the line fits for different quantities of data"
   ]
  },
  {
   "cell_type": "markdown",
   "id": "3650f939",
   "metadata": {},
   "source": [
    "Read in data for values of $\\Upsilon$ and histogram"
   ]
  },
  {
   "cell_type": "code",
   "execution_count": 57,
   "id": "507fc269",
   "metadata": {},
   "outputs": [
    {
     "name": "stdout",
     "output_type": "stream",
     "text": [
      "[1.431574938792727, 1.4317134626252588, 1.4317716673837833, 1.4317730606265844, 1.4317063997114219, 1.4317551069540364, 1.4316909780839726]\n",
      "[1.4318068890191895, 1.431797133599166, 1.4317885331820617]\n"
     ]
    }
   ],
   "source": [
    "pi_Ups = []\n",
    "gamma_Ups = []\n",
    "apery_Ups = 1.43101328\n",
    "log2_Ups = 1.4364816\n",
    "vertline_Ups = [apery_Ups, log2_Ups]\n",
    "\n",
    "for i in range(1, 93):\n",
    "    try:\n",
    "        if i < 10:\n",
    "            file = open(\"pi_fit_it0\" + str(i) + \".txt\")\n",
    "        else:\n",
    "            file = open(\"pi_fit_it\" + str(i) + \".txt\")\n",
    "        \n",
    "        pi_Ups.append(list(map(np.float64, file.read().splitlines()))[0])\n",
    "        file.close()\n",
    "    except:\n",
    "        pass\n",
    "    \n",
    "print(pi_Ups)\n",
    "\n",
    "for i in range(1, 42):\n",
    "    try:\n",
    "        if i < 10:\n",
    "            file = open(\"gamma_fit_it0\" + str(i) + \".txt\")\n",
    "        else:\n",
    "            file = open(\"gamma_fit_it\" + str(i) + \".txt\")\n",
    "        \n",
    "        gamma_Ups.append(list(map(np.float64, file.read().splitlines()))[0])\n",
    "        file.close()\n",
    "    except:\n",
    "        pass\n",
    "    \n",
    "print(gamma_Ups)"
   ]
  },
  {
   "cell_type": "code",
   "execution_count": 83,
   "id": "a3c38c45",
   "metadata": {},
   "outputs": [
    {
     "name": "stdout",
     "output_type": "stream",
     "text": [
      "pi mean: 1.4317122\n",
      "gamma mean: 1.4317975\n"
     ]
    },
    {
     "data": {
      "image/png": "[encoded data removed]",
      "text/plain": [
       "<Figure size 432x288 with 1 Axes>"
      ]
     },
     "metadata": {
      "needs_background": "light"
     },
     "output_type": "display_data"
    }
   ],
   "source": [
    "import matplotlib.pyplot as plt\n",
    "import numpy as np\n",
    "\n",
    "fig, axes = plt.subplots(nrows=1, ncols=1)\n",
    "\n",
    "hist_labels = [\"pi\", \"gamma\"]\n",
    "hist_colors_dict = {\"pi\" : \"palegreen\", \"gamma\" : \"bisque\"}\n",
    "vertline_labels = [\"apery\"]\n",
    "vertline_vals_dict = {\"apery\" : 1.43101328, \"log2\" : 1.4364816}\n",
    "vertline_colors_dict = {\"apery\" : \"royalblue\", \"log2\" : \"gold\", \n",
    "                       \"pi\" : \"seagreen\", \"gamma\" : \"darkorange\"}\n",
    "\n",
    "hist_bins = np.arange(1.43160, 1.432, 0.00002)\n",
    "\n",
    "hist_data = []\n",
    "hist_data.append(pi_Ups)\n",
    "hist_data.append(gamma_Ups)\n",
    "\n",
    "axes.hist(hist_data, \n",
    "        hist_bins, \n",
    "        histtype='bar', \n",
    "        stacked=True, \n",
    "        label = hist_labels, \n",
    "        color = [hist_colors_dict[l] for l in hist_labels])\n",
    "\n",
    "for (const, li) in zip(hist_labels, hist_data):\n",
    "    mean = np.around(np.mean(li), decimals = 7)\n",
    "    print(const + \" mean: \" + str(mean))\n",
    "    vertline_vals_dict[const] = mean\n",
    "\n",
    "for l in vertline_labels + hist_labels:\n",
    "    axes.axvline(vertline_vals_dict[l], label = l, color = vertline_colors_dict[l])\n",
    "\n",
    "axes.set_xticks(np.arange(1.431, 1.432, 0.0001))\n",
    "\n",
    "axes.legend()\n",
    "\n",
    "fig.tight_layout()\n",
    "plt.show()"
   ]
  },
  {
   "cell_type": "code",
   "execution_count": null,
   "id": "3fa6707c",
   "metadata": {},
   "outputs": [],
   "source": []
  }
 ],
 "metadata": {
  "kernelspec": {
   "display_name": "Python 3 (ipykernel)",
   "language": "python",
   "name": "python3"
  },
  "language_info": {
   "codemirror_mode": {
    "name": "ipython",
    "version": 3
   },
   "file_extension": ".py",
   "mimetype": "text/x-python",
   "name": "python",
   "nbconvert_exporter": "python",
   "pygments_lexer": "ipython3",
   "version": "3.8.13"
  }
 },
 "nbformat": 4,
 "nbformat_minor": 5
}
